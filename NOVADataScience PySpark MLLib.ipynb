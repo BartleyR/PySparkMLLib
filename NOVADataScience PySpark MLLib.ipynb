{
 "cells": [
  {
   "cell_type": "markdown",
   "metadata": {},
   "source": [
    "# Machine Learning Using PySpark and MLLib"
   ]
  },
  {
   "cell_type": "markdown",
   "metadata": {},
   "source": [
    "**Bartley Richardson, PhD**  \n",
    "_Principal Data Scientist_  \n",
    "_Sotera Defense Solutions, Inc. || Advanced Projects and Technologies_"
   ]
  },
  {
   "cell_type": "markdown",
   "metadata": {},
   "source": [
    "16 February 2017"
   ]
  },
  {
   "cell_type": "markdown",
   "metadata": {},
   "source": [
    "_This notebook was created for the NOVA Data Science meetup on 16 February 2017. The focus of the notebook is on basic PySpark MLLib usage. All examples and code are provided as-is with no guarantee of correctness. The user assumes all risks from reusing this code._"
   ]
  },
  {
   "cell_type": "markdown",
   "metadata": {},
   "source": [
    "---"
   ]
  },
  {
   "cell_type": "markdown",
   "metadata": {},
   "source": [
    "## Supervised Learning Example"
   ]
  },
  {
   "cell_type": "markdown",
   "metadata": {},
   "source": [
    "### Get the data and load into a dataframe"
   ]
  },
  {
   "cell_type": "markdown",
   "metadata": {},
   "source": [
    "We're going to use the [Bank Marketing data set](http://archive.ics.uci.edu/ml/datasets/Bank+Marketing#) from 2012. It includes some categorical features as well as numeric features, and there are only two target classes (yes or no if the client subscribed a term deposit). This is useful since PySpark's version of MLLib does not currently support multi-class classification using logistic regression."
   ]
  },
  {
   "cell_type": "code",
   "execution_count": 1,
   "metadata": {
    "collapsed": true
   },
   "outputs": [],
   "source": [
    "# first line reads in the smaller file (10% of data) for testing\n",
    "# df = sqlContext.read.format('com.databricks.spark.csv').options(header='true', inferschema='true', delimiter=';').load('./bank-additional/bank-additional.csv')\n",
    "df = sqlContext.read.format('com.databricks.spark.csv').options(header='true', inferschema='true', delimiter=';').load('./data/bank-additional-full.csv')"
   ]
  },
  {
   "cell_type": "markdown",
   "metadata": {},
   "source": [
    "It's useful to see the schema of the data we just imported, even though we know what the website says."
   ]
  },
  {
   "cell_type": "code",
   "execution_count": 2,
   "metadata": {
    "collapsed": false
   },
   "outputs": [
    {
     "name": "stdout",
     "output_type": "stream",
     "text": [
      "root\n",
      " |-- age: integer (nullable = true)\n",
      " |-- job: string (nullable = true)\n",
      " |-- marital: string (nullable = true)\n",
      " |-- education: string (nullable = true)\n",
      " |-- default: string (nullable = true)\n",
      " |-- housing: string (nullable = true)\n",
      " |-- loan: string (nullable = true)\n",
      " |-- contact: string (nullable = true)\n",
      " |-- month: string (nullable = true)\n",
      " |-- day_of_week: string (nullable = true)\n",
      " |-- duration: integer (nullable = true)\n",
      " |-- campaign: integer (nullable = true)\n",
      " |-- pdays: integer (nullable = true)\n",
      " |-- previous: integer (nullable = true)\n",
      " |-- poutcome: string (nullable = true)\n",
      " |-- emp.var.rate: double (nullable = true)\n",
      " |-- cons.price.idx: double (nullable = true)\n",
      " |-- cons.conf.idx: double (nullable = true)\n",
      " |-- euribor3m: double (nullable = true)\n",
      " |-- nr.employed: double (nullable = true)\n",
      " |-- y: string (nullable = true)\n",
      "\n"
     ]
    }
   ],
   "source": [
    "df.printSchema()"
   ]
  },
  {
   "cell_type": "markdown",
   "metadata": {},
   "source": [
    "We also would like to know how many rows we're dealing with here."
   ]
  },
  {
   "cell_type": "code",
   "execution_count": 3,
   "metadata": {
    "collapsed": false
   },
   "outputs": [
    {
     "name": "stdout",
     "output_type": "stream",
     "text": [
      "Number of rows in dataset = 41188\n"
     ]
    }
   ],
   "source": [
    "print \"Number of rows in dataset =\", df.count()"
   ]
  },
  {
   "cell_type": "markdown",
   "metadata": {},
   "source": [
    "### Data transformations"
   ]
  },
  {
   "cell_type": "markdown",
   "metadata": {},
   "source": [
    "The target variable is named y, so let's rename it to something that makes a bit more sense (we'll use \"label\" in this case)."
   ]
  },
  {
   "cell_type": "code",
   "execution_count": 4,
   "metadata": {
    "collapsed": true
   },
   "outputs": [],
   "source": [
    "df = df.withColumnRenamed(\"y\",\"label\")"
   ]
  },
  {
   "cell_type": "markdown",
   "metadata": {},
   "source": [
    "There are a number of categorical variables that we'd like to use in our classifier, so we'll need to convert them to a numerical type. [StringIndexer](http://spark.apache.org/docs/latest/ml-features.html#stringindexer) in pyspark.ml is useful for this. Although we won't use it in this example, there is a complementary function ([IndexToString](http://spark.apache.org/docs/latest/ml-features.html#indextostring)) that can map a column of label indices back to their original string (original categorical) values. Handy!\n",
    "\n",
    "For this first model, we're going to select some features seemingly randomly (I know, but it's just the first time through to demo). We'll use one numerical field as well as one categorical field. The numerical fields are fine, but we'll need to use StringIndexer to deal with the categorical field. Since the label is also categorical (\"yes\" or \"no\"), we'll also have to deal with that too."
   ]
  },
  {
   "cell_type": "code",
   "execution_count": 5,
   "metadata": {
    "collapsed": true
   },
   "outputs": [],
   "source": [
    "from pyspark.ml.feature import StringIndexer\n",
    "indexers = [StringIndexer(inputCol=\"job\", outputCol=\"job_index\"),\n",
    "            StringIndexer(inputCol=\"loan\", outputCol=\"loan_index\"),\n",
    "            StringIndexer(inputCol=\"label\", outputCol=\"label_index\")]"
   ]
  },
  {
   "cell_type": "markdown",
   "metadata": {},
   "source": [
    "The [Pipeline](http://spark.apache.org/docs/2.0.0/api/python/pyspark.ml.html#pyspark.ml.Pipeline) function is useful when we have multiple steps."
   ]
  },
  {
   "cell_type": "code",
   "execution_count": 6,
   "metadata": {
    "collapsed": false
   },
   "outputs": [],
   "source": [
    "from pyspark.ml import Pipeline\n",
    "index_pipeline = Pipeline(stages=indexers)\n",
    "indexed_df = index_pipeline.fit(df).transform(df)"
   ]
  },
  {
   "cell_type": "markdown",
   "metadata": {},
   "source": [
    "If we inspect one row of the indexed_df, we can see that we now have numeric values for the two categorical fields."
   ]
  },
  {
   "cell_type": "code",
   "execution_count": 7,
   "metadata": {
    "collapsed": false
   },
   "outputs": [
    {
     "data": {
      "text/plain": [
       "[Row(age=56, job=u'housemaid', marital=u'married', education=u'basic.4y', default=u'no', housing=u'no', loan=u'no', contact=u'telephone', month=u'may', day_of_week=u'mon', duration=261, campaign=1, pdays=999, previous=0, poutcome=u'nonexistent', emp.var.rate=1.1, cons.price.idx=93.994, cons.conf.idx=-36.4, euribor3m=4.857, nr.employed=5191.0, label=u'no', job_index=8.0, loan_index=0.0, label_index=0.0)]"
      ]
     },
     "execution_count": 7,
     "metadata": {},
     "output_type": "execute_result"
    }
   ],
   "source": [
    "indexed_df.take(1)"
   ]
  },
  {
   "cell_type": "markdown",
   "metadata": {},
   "source": [
    "The logistic regression algorithm in PySpark MLLib is expecting a RDD of [LabeledPoint](https://spark.apache.org/docs/latest/mllib-data-types.html#labeled-point) values. We'll need to write a simple parsing function in order to create this."
   ]
  },
  {
   "cell_type": "code",
   "execution_count": 8,
   "metadata": {
    "collapsed": true
   },
   "outputs": [],
   "source": [
    "from pyspark.mllib.regression import LabeledPoint\n",
    "def parse_data_1(row):\n",
    "    features = [row.age, row.loan_index]\n",
    "    \n",
    "    return LabeledPoint(row.label_index, features)"
   ]
  },
  {
   "cell_type": "code",
   "execution_count": 9,
   "metadata": {
    "collapsed": false
   },
   "outputs": [],
   "source": [
    "parsed_data = indexed_df.rdd.map(parse_data_1)"
   ]
  },
  {
   "cell_type": "markdown",
   "metadata": {},
   "source": [
    "And now we'll inspect a few points from the parsed data RDD."
   ]
  },
  {
   "cell_type": "code",
   "execution_count": 10,
   "metadata": {
    "collapsed": false
   },
   "outputs": [
    {
     "data": {
      "text/plain": [
       "[LabeledPoint(0.0, [56.0,0.0]), LabeledPoint(0.0, [57.0,0.0])]"
      ]
     },
     "execution_count": 10,
     "metadata": {},
     "output_type": "execute_result"
    }
   ],
   "source": [
    "parsed_data.take(2)"
   ]
  },
  {
   "cell_type": "markdown",
   "metadata": {},
   "source": [
    "In order to train the model, we'll split our data into training (70%) and testing (30%). We can use the built-in [randomSplit function](https://spark.apache.org/docs/1.6.2/api/java/org/apache/spark/rdd/RDD.html#randomSplit(double[],%20long) for this."
   ]
  },
  {
   "cell_type": "code",
   "execution_count": 11,
   "metadata": {
    "collapsed": true
   },
   "outputs": [],
   "source": [
    "train, test = parsed_data.randomSplit([0.7, 0.3])"
   ]
  },
  {
   "cell_type": "markdown",
   "metadata": {},
   "source": [
    "### Create the model and evaluate accuracy"
   ]
  },
  {
   "cell_type": "markdown",
   "metadata": {},
   "source": [
    "We're finally ready to train our logstic regression model. For this case, we're going to use [LogisticRegressionWithLBFGS](http://spark.apache.org/docs/2.0.0/api/python/pyspark.mllib.html) ([more information](https://en.wikipedia.org/wiki/Limited-memory_BFGS) on limited-memory BFGS, if you're interested)."
   ]
  },
  {
   "cell_type": "code",
   "execution_count": 12,
   "metadata": {
    "collapsed": true
   },
   "outputs": [],
   "source": [
    "from pyspark.mllib.classification import LogisticRegressionWithLBFGS\n",
    "\n",
    "logit_model_1 = LogisticRegressionWithLBFGS.train(train)"
   ]
  },
  {
   "cell_type": "markdown",
   "metadata": {},
   "source": [
    "Now that we have the model, we'll use the testing data to evaluate the accuracy of the model. We'll use the model we created above to predict labeles for the testing data and then compare to the actual label."
   ]
  },
  {
   "cell_type": "code",
   "execution_count": 13,
   "metadata": {
    "collapsed": false
   },
   "outputs": [
    {
     "name": "stdout",
     "output_type": "stream",
     "text": [
      "Accuracy of first model = 0.888240064882\n"
     ]
    }
   ],
   "source": [
    "labels_predictions = test.map(lambda p: (p.label, logit_model_1.predict(p.features)))\n",
    "test_accuracy_1 = labels_predictions.filter(lambda (v, p): v == p).count() / float(test.count())\n",
    "print \"Accuracy of first model =\", test_accuracy_1"
   ]
  },
  {
   "cell_type": "markdown",
   "metadata": {},
   "source": [
    "This isn't terrible, but we can maybe do better. Let's introduce a few more features and create a second model."
   ]
  },
  {
   "cell_type": "markdown",
   "metadata": {},
   "source": [
    "### A second model with more/different features"
   ]
  },
  {
   "cell_type": "markdown",
   "metadata": {},
   "source": [
    "In addition to the features used in the first model, we're now also going to use `default`, `poutcome` (how did they participate in the previous campaign), and two variables (`pdays` and `pcampaign`) that show how the client was contacted in the previous campaign. We'd also like to add in some economic factors, so we'll include `euribor3m`.\n",
    "\n",
    "For completeness, we'll reproduce the steps in creating the above model (including the import statements)."
   ]
  },
  {
   "cell_type": "code",
   "execution_count": 14,
   "metadata": {
    "collapsed": true
   },
   "outputs": [],
   "source": [
    "from pyspark.ml.feature import StringIndexer\n",
    "indexers = [StringIndexer(inputCol=\"job\", outputCol=\"job_index\"),\n",
    "           StringIndexer(inputCol=\"label\", outputCol=\"label_index\"),\n",
    "           StringIndexer(inputCol=\"default\", outputCol=\"default_index\"),\n",
    "           StringIndexer(inputCol=\"poutcome\", outputCol=\"poutcome_index\")]"
   ]
  },
  {
   "cell_type": "code",
   "execution_count": 15,
   "metadata": {
    "collapsed": true
   },
   "outputs": [],
   "source": [
    "from pyspark.ml import Pipeline\n",
    "index_pipeline = Pipeline(stages=indexers)\n",
    "indexed_df = index_pipeline.fit(df).transform(df)"
   ]
  },
  {
   "cell_type": "markdown",
   "metadata": {},
   "source": [
    "Again, let's take one row to make sure we did everything correct."
   ]
  },
  {
   "cell_type": "code",
   "execution_count": 16,
   "metadata": {
    "collapsed": false
   },
   "outputs": [
    {
     "data": {
      "text/plain": [
       "[Row(age=56, job=u'housemaid', marital=u'married', education=u'basic.4y', default=u'no', housing=u'no', loan=u'no', contact=u'telephone', month=u'may', day_of_week=u'mon', duration=261, campaign=1, pdays=999, previous=0, poutcome=u'nonexistent', emp.var.rate=1.1, cons.price.idx=93.994, cons.conf.idx=-36.4, euribor3m=4.857, nr.employed=5191.0, label=u'no', job_index=8.0, label_index=0.0, default_index=0.0, poutcome_index=0.0)]"
      ]
     },
     "execution_count": 16,
     "metadata": {},
     "output_type": "execute_result"
    }
   ],
   "source": [
    "indexed_df.take(1)"
   ]
  },
  {
   "cell_type": "markdown",
   "metadata": {},
   "source": [
    "Looks good! Now we'll slightly modify the parse_data_1 function to create one that deals with the additional features. "
   ]
  },
  {
   "cell_type": "code",
   "execution_count": 17,
   "metadata": {
    "collapsed": true
   },
   "outputs": [],
   "source": [
    "from pyspark.mllib.regression import LabeledPoint\n",
    "def parse_data_2(row):\n",
    "    features = [row.age, row.campaign, row.pdays, row.previous, row.poutcome_index,\n",
    "                row.job_index, row.default_index, row.euribor3m]\n",
    "    \n",
    "    return LabeledPoint(row.label_index, features)"
   ]
  },
  {
   "cell_type": "code",
   "execution_count": 18,
   "metadata": {
    "collapsed": false
   },
   "outputs": [],
   "source": [
    "parsed_data = indexed_df.rdd.map(parse_data_2)"
   ]
  },
  {
   "cell_type": "markdown",
   "metadata": {},
   "source": [
    "We'll split the data again."
   ]
  },
  {
   "cell_type": "code",
   "execution_count": 19,
   "metadata": {
    "collapsed": true
   },
   "outputs": [],
   "source": [
    "train, test = parsed_data.randomSplit([0.7, 0.3])"
   ]
  },
  {
   "cell_type": "code",
   "execution_count": 20,
   "metadata": {
    "collapsed": false
   },
   "outputs": [
    {
     "name": "stdout",
     "output_type": "stream",
     "text": [
      "Accuracy of second model = 0.896832505496\n"
     ]
    }
   ],
   "source": [
    "from pyspark.mllib.classification import LogisticRegressionWithLBFGS\n",
    "\n",
    "logit_model_2 = LogisticRegressionWithLBFGS.train(train)\n",
    "labels_predictions_2 = test.map(lambda p: (p.label, logit_model_2.predict(p.features)))\n",
    "test_accuracy_2 = labels_predictions_2.filter(lambda (v, p): v == p).count() / float(test.count())\n",
    "print \"Accuracy of second model =\", test_accuracy_2"
   ]
  },
  {
   "cell_type": "markdown",
   "metadata": {},
   "source": [
    "The accuracy is somewhat improved, but at the cost of adding complexity to the model in terms of number of featrures. In fact, there are much better regression models that can be created.\n",
    "\n",
    "For now, we'll move on to an unsupervised learning example."
   ]
  },
  {
   "cell_type": "markdown",
   "metadata": {},
   "source": [
    "---"
   ]
  },
  {
   "cell_type": "markdown",
   "metadata": {},
   "source": [
    "## Unsupervised Learning Example"
   ]
  },
  {
   "cell_type": "markdown",
   "metadata": {},
   "source": [
    "Supervised learning is great when you have labels, but what about when don't have those? Then we can turn to unsupervised techniques.\n",
    "\n",
    "[Word2Vec](https://code.google.com/archive/p/word2vec/) is a shallow, two-layer neural network that is used to learn word embeddings and embed them in a high-dimensional vector space. There are many applications for Word2Vec, and they need not be limited to natural language. However, for the purposes of this talk, natural language is the most straightforward and easy to understand. Thankfully, Word2Vec is built into many packages and technologies, including [MLLib](https://spark.apache.org/docs/latest/mllib-feature-extraction.html#word2vec)."
   ]
  },
  {
   "cell_type": "code",
   "execution_count": 1,
   "metadata": {
    "collapsed": true
   },
   "outputs": [],
   "source": [
    "from pyspark.mllib.feature import Word2Vec\n",
    "import pandas as pd\n",
    "import seaborn as sns"
   ]
  },
  {
   "cell_type": "markdown",
   "metadata": {},
   "source": [
    "To illustrate Word2Vec, we're going to use a fairly contrived document. The document contains lists of analogies in the form:\n",
    "\n",
    "    X is to Y as A is to B\n",
    "    \n",
    "This is a fairly well-known document and available [many](https://github.com/nicholas-leonard/word2vec/blob/master/questions-words.txt) [places](https://github.com/RaRe-Technologies/gensim/blob/develop/docs/notebooks/word2vec.ipynb)."
   ]
  },
  {
   "cell_type": "code",
   "execution_count": 2,
   "metadata": {
    "collapsed": true
   },
   "outputs": [],
   "source": [
    "doc = sc.textFile(\"./data/questions-words.txt\").map(lambda line: line.split(\" \"))"
   ]
  },
  {
   "cell_type": "markdown",
   "metadata": {},
   "source": [
    "Just to get a handle on the file, let's see how many lines there are."
   ]
  },
  {
   "cell_type": "code",
   "execution_count": 3,
   "metadata": {
    "collapsed": false
   },
   "outputs": [
    {
     "data": {
      "text/plain": [
       "19558"
      ]
     },
     "execution_count": 3,
     "metadata": {},
     "output_type": "execute_result"
    }
   ],
   "source": [
    "doc.count()"
   ]
  },
  {
   "cell_type": "markdown",
   "metadata": {},
   "source": [
    "And now we'll take a look at what's in the file."
   ]
  },
  {
   "cell_type": "code",
   "execution_count": 4,
   "metadata": {
    "collapsed": false
   },
   "outputs": [
    {
     "data": {
      "text/plain": [
       "[[u':', u'capital-common-countries'],\n",
       " [u'Athens', u'Greece', u'Baghdad', u'Iraq'],\n",
       " [u'Athens', u'Greece', u'Bangkok', u'Thailand'],\n",
       " [u'Athens', u'Greece', u'Beijing', u'China'],\n",
       " [u'Athens', u'Greece', u'Berlin', u'Germany'],\n",
       " [u'Athens', u'Greece', u'Bern', u'Switzerland'],\n",
       " [u'Athens', u'Greece', u'Cairo', u'Egypt'],\n",
       " [u'Athens', u'Greece', u'Canberra', u'Australia'],\n",
       " [u'Athens', u'Greece', u'Hanoi', u'Vietnam'],\n",
       " [u'Athens', u'Greece', u'Havana', u'Cuba']]"
      ]
     },
     "execution_count": 4,
     "metadata": {},
     "output_type": "execute_result"
    }
   ],
   "source": [
    "doc.take(10)"
   ]
  },
  {
   "cell_type": "markdown",
   "metadata": {},
   "source": [
    "Cool, but what about seeing other items present in the document? We can use the `sample` [function](http://takwatanabe.me/pyspark/generated/generated/pyspark.RDD.sample.html) to accomplish this. It's faster than the `takeSample` [function](http://spark.apache.org/docs/1.1.1/api/python/pyspark.rdd.RDD-class.html#takeSample), but the downside is it's sometimes difficult to know the fraction you need (especially if you don't want to call `count`)."
   ]
  },
  {
   "cell_type": "code",
   "execution_count": 5,
   "metadata": {
    "collapsed": false
   },
   "outputs": [
    {
     "data": {
      "text/plain": [
       "[[u'Funafuti', u'Tuvalu', u'Lusaka', u'Zambia'],\n",
       " [u'Nicosia', u'Cyprus', u'Yerevan', u'Armenia'],\n",
       " [u'Philadelphia', u'Pennsylvania', u'Atlanta', u'Georgia'],\n",
       " [u'Shreveport', u'Louisiana', u'Denver', u'Colorado'],\n",
       " [u'Tacoma', u'Washington', u'Sacramento', u'California'],\n",
       " [u'grandpa', u'grandma', u'grandson', u'granddaughter'],\n",
       " [u'sons', u'daughters', u'man', u'woman'],\n",
       " [u'calm', u'calmly', u'occasional', u'occasionally'],\n",
       " [u'fortunate', u'fortunately', u'possible', u'possibly'],\n",
       " [u'warm', u'warmer', u'high', u'higher'],\n",
       " [u'dog', u'dogs', u'pig', u'pigs']]"
      ]
     },
     "execution_count": 5,
     "metadata": {},
     "output_type": "execute_result"
    }
   ],
   "source": [
    "doc.sample(False, 0.001, 1824).collect()"
   ]
  },
  {
   "cell_type": "markdown",
   "metadata": {},
   "source": [
    "Okay, so there _are_ other analogies in there. That's a good sign! Ready for the magic? Don't blink, it happens fast."
   ]
  },
  {
   "cell_type": "code",
   "execution_count": 6,
   "metadata": {
    "collapsed": false
   },
   "outputs": [],
   "source": [
    "model = Word2Vec().setWindowSize(2).setSeed(7712).fit(doc)"
   ]
  },
  {
   "cell_type": "markdown",
   "metadata": {},
   "source": [
    "Did you miss it? We already created a Word2Vec model. Sure, there are quite a few [additional options available](https://spark.apache.org/docs/latest/api/python/pyspark.mllib.html#pyspark.mllib.feature.Word2Vec). Perhaps the most useful are setting the vector size (the dimensionally used for the embedding) and the window size. The defaults are 100 and 5, respectively. Our sentences (analogies, in this case) aren't long at all, so we've restricted the window size. We've also seeded manually in order to reproduce results.\n",
    "\n",
    "One thing we can do is query the model for synonyms of a particular word. This doesn't necessairly mean the same thing as the English language definition of synonym but rather means words that have similar embedding (via cosine similarity) to the given word."
   ]
  },
  {
   "cell_type": "code",
   "execution_count": 7,
   "metadata": {
    "collapsed": false
   },
   "outputs": [
    {
     "data": {
      "text/plain": [
       "[(u'mother', 0.99511222880580985),\n",
       " (u'wife', 0.99376529795880253),\n",
       " (u'father', 0.99293227308015253),\n",
       " (u'prince', 0.9928483703846005),\n",
       " (u'niece', 0.99178970525458698),\n",
       " (u'grandpa', 0.99142580440698969),\n",
       " (u'boy', 0.99102816416405859),\n",
       " (u'daughters', 0.99097605454538373),\n",
       " (u'grandson', 0.98929323134333214),\n",
       " (u'groom', 0.98920963163230535)]"
      ]
     },
     "execution_count": 7,
     "metadata": {},
     "output_type": "execute_result"
    }
   ],
   "source": [
    "model.findSynonyms(\"girl\", 10)"
   ]
  },
  {
   "cell_type": "markdown",
   "metadata": {},
   "source": [
    "Makes a little bit of sense, especially if you look hard.\n",
    "\n",
    "One huge advantage of Word2Vec is the ability to perform vector arithmetic on the embedded words. The classic example is:\n",
    "\n",
    "    man + king - queen = woman\n",
    "    \n",
    "We can do something similar here, but we'll use:\n",
    "\n",
    "    girl + brother - boy"
   ]
  },
  {
   "cell_type": "code",
   "execution_count": 8,
   "metadata": {
    "collapsed": false
   },
   "outputs": [],
   "source": [
    "vector_1 = model.transform(\"girl\")+model.transform(\"brother\")-model.transform(\"boy\")"
   ]
  },
  {
   "cell_type": "code",
   "execution_count": 9,
   "metadata": {
    "collapsed": false
   },
   "outputs": [
    {
     "data": {
      "text/plain": [
       "[(u'granddaughter', 0.99000022770354801),\n",
       " (u'stepbrother', 0.98983607273536456),\n",
       " (u'son', 0.98918080032709155),\n",
       " (u'brother', 0.98904372669344165),\n",
       " (u'policewoman', 0.98629621221582175),\n",
       " (u'stepson', 0.98617345893917674),\n",
       " (u'king', 0.98525168986706579),\n",
       " (u'sister', 0.98524409491506881),\n",
       " (u'stepsister', 0.9836585478963995),\n",
       " (u'stepmother', 0.98230900560410139)]"
      ]
     },
     "execution_count": 9,
     "metadata": {},
     "output_type": "execute_result"
    }
   ],
   "source": [
    "model.findSynonyms(vector_1,10)"
   ]
  },
  {
   "cell_type": "markdown",
   "metadata": {},
   "source": [
    "Does it make sense? A little. We see that most of the words have something to do with being female, and `sister` is even in the list (pretty high too).\n",
    "\n",
    "What we did was use the model to transform the word into the vector (a DenseVector in this case). It looks like this."
   ]
  },
  {
   "cell_type": "code",
   "execution_count": 10,
   "metadata": {
    "collapsed": false
   },
   "outputs": [
    {
     "data": {
      "text/plain": [
       "DenseVector([0.1989, -0.1743, -0.0939, 0.1083, -0.0057, -0.1498, -0.1187, -0.0132, -0.0441, 0.1995, -0.1299, 0.0356, -0.0315, -0.081, 0.1061, 0.1098, -0.1722, -0.2281, -0.1308, 0.39, 0.062, 0.0263, -0.0253, -0.1009, -0.0276, 0.1377, 0.0331, -0.0841, 0.0095, -0.0254, 0.0062, -0.2672, -0.1616, 0.0232, 0.0879, -0.1209, 0.1452, 0.2707, -0.13, -0.1577, -0.2147, 0.0702, 0.1561, 0.0161, -0.0935, -0.1631, 0.0033, -0.1504, 0.1927, -0.1849, -0.0802, 0.2974, -0.0695, 0.0316, 0.0955, -0.0156, 0.0607, -0.0872, 0.1317, 0.1149, -0.2147, -0.0967, 0.0664, -0.0117, 0.0688, 0.1525, -0.1064, -0.0936, -0.1205, -0.0342, 0.0583, 0.0168, 0.0491, 0.0715, -0.1636, -0.0149, -0.1252, 0.0505, 0.1868, -0.212, -0.1135, -0.07, 0.1714, 0.1491, 0.0226, 0.0201, 0.096, -0.1624, -0.0775, -0.0283, -0.1794, -0.1446, 0.3148, 0.1816, -0.0495, 0.1519, -0.0773, -0.2093, 0.1817, -0.0542])"
      ]
     },
     "execution_count": 10,
     "metadata": {},
     "output_type": "execute_result"
    }
   ],
   "source": [
    "model.transform(\"brother\")"
   ]
  },
  {
   "cell_type": "markdown",
   "metadata": {},
   "source": [
    "This is all well and good, but what if we want to visualize the results? Unless you have a 100-dimensional display, this can get difficult. Thankfully, there are some simple ways we can still get a nice two-dimensional representation of the vectors. \n",
    "\n",
    "Pick your favorite dimensionality reduction technique. We'll use [t-SNE](https://lvdmaaten.github.io/tsne/) (of course we will, it won a prize!). We're cheating a bit and using sklearn though."
   ]
  },
  {
   "cell_type": "code",
   "execution_count": 11,
   "metadata": {
    "collapsed": true
   },
   "outputs": [],
   "source": [
    "import numpy as np\n",
    "from sklearn.manifold import TSNE"
   ]
  },
  {
   "cell_type": "markdown",
   "metadata": {},
   "source": [
    "In order to get down to two dimensions, we specify `n_components=2`."
   ]
  },
  {
   "cell_type": "code",
   "execution_count": 12,
   "metadata": {
    "collapsed": true
   },
   "outputs": [],
   "source": [
    "tsne_model = TSNE(n_components=2, random_state=0)\n",
    "# np.set_printoptions(suppress=True)"
   ]
  },
  {
   "cell_type": "markdown",
   "metadata": {},
   "source": [
    "We don't want to use t-SNE on the words, just the vectors. So we'll use the built-in `getVectors()` function to extract only the high-dimenstional vectors from the Word2Vec model."
   ]
  },
  {
   "cell_type": "code",
   "execution_count": 13,
   "metadata": {
    "collapsed": true
   },
   "outputs": [],
   "source": [
    "vects = model.getVectors()"
   ]
  },
  {
   "cell_type": "markdown",
   "metadata": {},
   "source": [
    "Now we can do the dimensionality reduction."
   ]
  },
  {
   "cell_type": "code",
   "execution_count": 14,
   "metadata": {
    "collapsed": true
   },
   "outputs": [],
   "source": [
    "tsne_out = tsne_model.fit_transform(vects.values())"
   ]
  },
  {
   "cell_type": "markdown",
   "metadata": {},
   "source": [
    "Okay, now what? The whole point of doing this was to get a better picture (get it, picture?) of what the word embeddings look like. So we'll plot it. \n",
    "\n",
    "_Disclaimer: I very much dislike plotting using Matplotlib. Nothing against it or you if you love it; it's just not for me. So what follows isn't super efficient, but it keeps me happy._"
   ]
  },
  {
   "cell_type": "markdown",
   "metadata": {},
   "source": [
    "Let's create a Pandas dataframe with the t-SNE (x, y) output."
   ]
  },
  {
   "cell_type": "code",
   "execution_count": 15,
   "metadata": {
    "collapsed": true
   },
   "outputs": [],
   "source": [
    "tsne_df = pd.DataFrame(tsne_out, columns=['x','y'])"
   ]
  },
  {
   "cell_type": "markdown",
   "metadata": {},
   "source": [
    "Now we can plot it! I'll use [Seaborn](http://seaborn.pydata.org) just to make it pretty. And don't forget to set alpha transparency!"
   ]
  },
  {
   "cell_type": "code",
   "execution_count": 16,
   "metadata": {
    "collapsed": false
   },
   "outputs": [
    {
     "data": {
      "image/png": "[encoded data removed]",
      "text/plain": [
       "<matplotlib.figure.Figure at 0x1181fc290>"
      ]
     },
     "metadata": {},
     "output_type": "display_data"
    }
   ],
   "source": [
    "%matplotlib inline\n",
    "ax = sns.lmplot('x', 'y', tsne_df, fit_reg=False, size=8,\n",
    "               scatter_kws={'alpha':0.7,'s':60})"
   ]
  },
  {
   "cell_type": "markdown",
   "metadata": {},
   "source": [
    "It looks nice, and you can even see clusters (although they may just be in your imagination). Without plotting again and putting labels on the plot, we can add the words back into the dataframe then manually slice the dataframe to see what words appear together."
   ]
  },
  {
   "cell_type": "code",
   "execution_count": 17,
   "metadata": {
    "collapsed": true
   },
   "outputs": [],
   "source": [
    "tsne_df[\"word\"] = vects.keys()"
   ]
  },
  {
   "cell_type": "code",
   "execution_count": 18,
   "metadata": {
    "collapsed": false
   },
   "outputs": [
    {
     "data": {
      "text/html": [
       "<div>\n",
       "<table border=\"1\" class=\"dataframe\">\n",
       "  <thead>\n",
       "    <tr style=\"text-align: right;\">\n",
       "      <th></th>\n",
       "      <th>x</th>\n",
       "      <th>y</th>\n",
       "      <th>word</th>\n",
       "    </tr>\n",
       "  </thead>\n",
       "  <tbody>\n",
       "    <tr>\n",
       "      <th>0</th>\n",
       "      <td>8.062794</td>\n",
       "      <td>19.277528</td>\n",
       "      <td>serious</td>\n",
       "    </tr>\n",
       "    <tr>\n",
       "      <th>32</th>\n",
       "      <td>8.170368</td>\n",
       "      <td>19.584638</td>\n",
       "      <td>professionally</td>\n",
       "    </tr>\n",
       "    <tr>\n",
       "      <th>43</th>\n",
       "      <td>8.138296</td>\n",
       "      <td>19.433303</td>\n",
       "      <td>precisely</td>\n",
       "    </tr>\n",
       "    <tr>\n",
       "      <th>67</th>\n",
       "      <td>6.137148</td>\n",
       "      <td>21.970283</td>\n",
       "      <td>professional</td>\n",
       "    </tr>\n",
       "    <tr>\n",
       "      <th>78</th>\n",
       "      <td>10.305916</td>\n",
       "      <td>21.636797</td>\n",
       "      <td>apparently</td>\n",
       "    </tr>\n",
       "    <tr>\n",
       "      <th>144</th>\n",
       "      <td>7.975042</td>\n",
       "      <td>20.097824</td>\n",
       "      <td>cheerful</td>\n",
       "    </tr>\n",
       "    <tr>\n",
       "      <th>173</th>\n",
       "      <td>7.935768</td>\n",
       "      <td>19.554603</td>\n",
       "      <td>suddenly</td>\n",
       "    </tr>\n",
       "    <tr>\n",
       "      <th>181</th>\n",
       "      <td>9.644266</td>\n",
       "      <td>21.247836</td>\n",
       "      <td>infrequently</td>\n",
       "    </tr>\n",
       "    <tr>\n",
       "      <th>232</th>\n",
       "      <td>7.407469</td>\n",
       "      <td>22.551198</td>\n",
       "      <td>obvious</td>\n",
       "    </tr>\n",
       "    <tr>\n",
       "      <th>268</th>\n",
       "      <td>7.230676</td>\n",
       "      <td>22.832586</td>\n",
       "      <td>reluctantly</td>\n",
       "    </tr>\n",
       "  </tbody>\n",
       "</table>\n",
       "</div>"
      ],
      "text/plain": [
       "             x          y            word\n",
       "0     8.062794  19.277528         serious\n",
       "32    8.170368  19.584638  professionally\n",
       "43    8.138296  19.433303       precisely\n",
       "67    6.137148  21.970283    professional\n",
       "78   10.305916  21.636797      apparently\n",
       "144   7.975042  20.097824        cheerful\n",
       "173   7.935768  19.554603        suddenly\n",
       "181   9.644266  21.247836    infrequently\n",
       "232   7.407469  22.551198         obvious\n",
       "268   7.230676  22.832586     reluctantly"
      ]
     },
     "execution_count": 18,
     "metadata": {},
     "output_type": "execute_result"
    }
   ],
   "source": [
    "tsne_df[(tsne_df['x']>0) & (tsne_df['x']<11) & \n",
    "       (tsne_df['y']>18) & (tsne_df['y']<30)][:10]"
   ]
  },
  {
   "cell_type": "markdown",
   "metadata": {},
   "source": [
    "In the above scenario, we're looking at the top-most grouping, just to the right of center. It's primarily comprised of adverbs that end in -ly, which is an interesting find.\n",
    "\n",
    "However, without doing this for every grouping or using a tool like [Plotly](https://plot.ly) (which is seriously cool, and you should check it out if you haven't used it...just use the offline mode though), we're at an impass. Here's where we'll cheat a bit more in the interest of time. In order to visualize this, we'll export the data and read it into Tableau."
   ]
  },
  {
   "cell_type": "code",
   "execution_count": 39,
   "metadata": {
    "collapsed": true
   },
   "outputs": [],
   "source": [
    "tsne_df.to_csv(\"./tsne_wordvects.tab\", sep='\\t')"
   ]
  },
  {
   "cell_type": "markdown",
   "metadata": {},
   "source": [
    "From Tableau, we can obtain a plot of this data. We'll color it by words that represent a country (orange) and those that don't. We see that many of the countries group together, with the exception of Georgia. Since Georgia is also a US state, it makes a little bit of sense that it may be confused with that and grouped with US states."
   ]
  },
  {
   "cell_type": "markdown",
   "metadata": {},
   "source": [
    "#### Country vs Non-Country\n",
    "![Country vs NonCountry](./images/image_country_vs_noncountry_v1.png)"
   ]
  },
  {
   "cell_type": "markdown",
   "metadata": {},
   "source": [
    "As of Tableau v10, you can do _k_-means clustering right inside of Tableau. Let's do this (letting Tableau determine what _k_ should be). Tableau chooses k=16, and we can view the resuls right here."
   ]
  },
  {
   "cell_type": "markdown",
   "metadata": {},
   "source": [
    "#### k-Means Clustering After t-SNE\n",
    "![k-Means Clustering After t-SNE](./images/image_cluster_after_tsne_v1.png)"
   ]
  },
  {
   "cell_type": "markdown",
   "metadata": {},
   "source": [
    "This isn't terribly exciting. We see some nice results (such as the US cities and states, cluster 9). Also, cluster 7 is mostly relationships/family names (e.g., brother, stepson, stepdaughter, niece). However, there's an inherient issue with clustering _after_ performing dimensionality reduction from a high-dimensional space to a two-dimensional space. It may be better if we cluster the actual word vectors and then apply t-SNE. We can accomplish this in MLLib."
   ]
  },
  {
   "cell_type": "markdown",
   "metadata": {},
   "source": [
    "### Clustering the word vectors"
   ]
  },
  {
   "cell_type": "markdown",
   "metadata": {},
   "source": [
    "We can continue to investigate the model in Tableau, or we can try to do one last thing. We have these word vectors in high-dimensional space, what if we tried to _learn_ something about their embedding in this space _without_ doing a visual analysis? What if we applied [_k_-means clustering](https://en.wikipedia.org/wiki/K-means_clustering) to the vectors?\n",
    "\n",
    "Let's try! MLLib has _k_-means clustering built right in, so it should be fairly straightforward."
   ]
  },
  {
   "cell_type": "code",
   "execution_count": 19,
   "metadata": {
    "collapsed": true
   },
   "outputs": [],
   "source": [
    "from pyspark.mllib.clustering import KMeans, KMeansModel"
   ]
  },
  {
   "cell_type": "markdown",
   "metadata": {},
   "source": [
    "Time to do a little data massaging to get our vectors into a format that pyspark.mllib.clustering.KMeans wants. MLLib's implementation of _k_-means is expecting a RDD of arrays. We know what we have to do!"
   ]
  },
  {
   "cell_type": "code",
   "execution_count": 20,
   "metadata": {
    "collapsed": true
   },
   "outputs": [],
   "source": [
    "vectors_only_array = np.asanyarray(vects.values())"
   ]
  },
  {
   "cell_type": "code",
   "execution_count": 21,
   "metadata": {
    "collapsed": false
   },
   "outputs": [],
   "source": [
    "vectors_rdd = sc.parallelize(vectors_only_array)"
   ]
  },
  {
   "cell_type": "markdown",
   "metadata": {},
   "source": [
    "That wasn't too bad. Now that we have the vectors as arrays in a RDD, we can train the _k_-means model. Of course, we need to define _k_ before we can cluster. There are other clustering methods (e.g., [Unsupervised Niche Clustering](https://www.researchgate.net/profile/Olfa_Nasraoui/publication/227060150_Unsupervised_Niche_Clustering_Discovering_an_Unknown_Number_of_Clusters_in_Noisy_Data_Sets/links/0deec5260cf0aad4ab000000.pdf?origin=publication_list)) that don't requrie _k_ to be known _a priori_, but that's a little more than we want to deal with right now. Also, it's not built into MLLib (and we've already cheated plenty).\n",
    "\n",
    "We'll make an educated guess that _k_ is 10. If you like, you can experiment with differnet values of _k_ to see what happens."
   ]
  },
  {
   "cell_type": "code",
   "execution_count": 22,
   "metadata": {
    "collapsed": false
   },
   "outputs": [],
   "source": [
    "clusters = KMeans.train(vectors_rdd, 10, \n",
    "                       maxIterations=10, initializationMode=\"random\")"
   ]
  },
  {
   "cell_type": "markdown",
   "metadata": {},
   "source": [
    "Excellent! That didn't take long, and now we have a model. By this time, my well-known issues with Matplotlib will continue to effect this data analysis, and we'll pivot away from Python plotting. Since I have access to Tableau, I'm going to get the data in a format where I can export it and visualize it there. If you prefer and love Matplotlib or want to learn Plotly, you should definitely do that! I'd love to see the results!\n",
    "\n",
    "Let's create a dataframe that has the keys (words) and vectors. There's a hiccup if you try to go directly from the Word2Vec dict to a Pandas dataframe (you'll get a column for every value in the vector, all 100 of them), so we'll take a Pythonic approach to fixing this. I realize this is probably not the most efficient way, but it works for now."
   ]
  },
  {
   "cell_type": "code",
   "execution_count": 23,
   "metadata": {
    "collapsed": false
   },
   "outputs": [],
   "source": [
    "individual_rows = []\n",
    "for key, value in vects.iteritems():\n",
    "    individual_rows.append([key,np.asarray(list(value))])\n",
    "vectors_df = pd.DataFrame(individual_rows)\n",
    "vectors_df.columns = [\"key\",\"vector\"]"
   ]
  },
  {
   "cell_type": "markdown",
   "metadata": {},
   "source": [
    "We'll look at what we have, just to make sure we're on the right track."
   ]
  },
  {
   "cell_type": "code",
   "execution_count": 24,
   "metadata": {
    "collapsed": false
   },
   "outputs": [
    {
     "data": {
      "text/html": [
       "<div>\n",
       "<table border=\"1\" class=\"dataframe\">\n",
       "  <thead>\n",
       "    <tr style=\"text-align: right;\">\n",
       "      <th></th>\n",
       "      <th>key</th>\n",
       "      <th>vector</th>\n",
       "    </tr>\n",
       "  </thead>\n",
       "  <tbody>\n",
       "    <tr>\n",
       "      <th>0</th>\n",
       "      <td>serious</td>\n",
       "      <td>[-0.18090227, 0.071954094, 0.09142203, -0.1080...</td>\n",
       "    </tr>\n",
       "    <tr>\n",
       "      <th>1</th>\n",
       "      <td>Argentinean</td>\n",
       "      <td>[-0.13379298, 0.04386206, -0.012512328, 0.0142...</td>\n",
       "    </tr>\n",
       "    <tr>\n",
       "      <th>2</th>\n",
       "      <td>lion</td>\n",
       "      <td>[0.0414769, 0.07991018, 0.010302051, -0.077551...</td>\n",
       "    </tr>\n",
       "    <tr>\n",
       "      <th>3</th>\n",
       "      <td>Skopje</td>\n",
       "      <td>[-0.373039, 0.06408548, -0.23926772, 0.3546603...</td>\n",
       "    </tr>\n",
       "    <tr>\n",
       "      <th>4</th>\n",
       "      <td>denar</td>\n",
       "      <td>[-0.14734268, 0.008658076, -0.20765506, 0.2467...</td>\n",
       "    </tr>\n",
       "  </tbody>\n",
       "</table>\n",
       "</div>"
      ],
      "text/plain": [
       "           key                                             vector\n",
       "0      serious  [-0.18090227, 0.071954094, 0.09142203, -0.1080...\n",
       "1  Argentinean  [-0.13379298, 0.04386206, -0.012512328, 0.0142...\n",
       "2         lion  [0.0414769, 0.07991018, 0.010302051, -0.077551...\n",
       "3       Skopje  [-0.373039, 0.06408548, -0.23926772, 0.3546603...\n",
       "4        denar  [-0.14734268, 0.008658076, -0.20765506, 0.2467..."
      ]
     },
     "execution_count": 24,
     "metadata": {},
     "output_type": "execute_result"
    }
   ],
   "source": [
    "vectors_df.head()"
   ]
  },
  {
   "cell_type": "markdown",
   "metadata": {},
   "source": [
    "Looks good! Now we need to use the _k_-means clustering model to predict what cluster each key (i.e., word) belongs to using its vector representation. We'll do that, then add the results back in to the dataframe as their own column."
   ]
  },
  {
   "cell_type": "code",
   "execution_count": 25,
   "metadata": {
    "collapsed": false
   },
   "outputs": [],
   "source": [
    "vectors_df['cluster_label'] = vectors_df['vector'].apply(lambda x: clusters.predict(x))"
   ]
  },
  {
   "cell_type": "code",
   "execution_count": 26,
   "metadata": {
    "collapsed": false
   },
   "outputs": [
    {
     "data": {
      "text/html": [
       "<div>\n",
       "<table border=\"1\" class=\"dataframe\">\n",
       "  <thead>\n",
       "    <tr style=\"text-align: right;\">\n",
       "      <th></th>\n",
       "      <th>key</th>\n",
       "      <th>vector</th>\n",
       "      <th>cluster_label</th>\n",
       "    </tr>\n",
       "  </thead>\n",
       "  <tbody>\n",
       "    <tr>\n",
       "      <th>0</th>\n",
       "      <td>serious</td>\n",
       "      <td>[-0.18090227, 0.071954094, 0.09142203, -0.1080...</td>\n",
       "      <td>8</td>\n",
       "    </tr>\n",
       "    <tr>\n",
       "      <th>1</th>\n",
       "      <td>Argentinean</td>\n",
       "      <td>[-0.13379298, 0.04386206, -0.012512328, 0.0142...</td>\n",
       "      <td>1</td>\n",
       "    </tr>\n",
       "    <tr>\n",
       "      <th>2</th>\n",
       "      <td>lion</td>\n",
       "      <td>[0.0414769, 0.07991018, 0.010302051, -0.077551...</td>\n",
       "      <td>11</td>\n",
       "    </tr>\n",
       "    <tr>\n",
       "      <th>3</th>\n",
       "      <td>Skopje</td>\n",
       "      <td>[-0.373039, 0.06408548, -0.23926772, 0.3546603...</td>\n",
       "      <td>14</td>\n",
       "    </tr>\n",
       "    <tr>\n",
       "      <th>4</th>\n",
       "      <td>denar</td>\n",
       "      <td>[-0.14734268, 0.008658076, -0.20765506, 0.2467...</td>\n",
       "      <td>14</td>\n",
       "    </tr>\n",
       "  </tbody>\n",
       "</table>\n",
       "</div>"
      ],
      "text/plain": [
       "           key                                             vector  \\\n",
       "0      serious  [-0.18090227, 0.071954094, 0.09142203, -0.1080...   \n",
       "1  Argentinean  [-0.13379298, 0.04386206, -0.012512328, 0.0142...   \n",
       "2         lion  [0.0414769, 0.07991018, 0.010302051, -0.077551...   \n",
       "3       Skopje  [-0.373039, 0.06408548, -0.23926772, 0.3546603...   \n",
       "4        denar  [-0.14734268, 0.008658076, -0.20765506, 0.2467...   \n",
       "\n",
       "   cluster_label  \n",
       "0              8  \n",
       "1              1  \n",
       "2             11  \n",
       "3             14  \n",
       "4             14  "
      ]
     },
     "execution_count": 26,
     "metadata": {},
     "output_type": "execute_result"
    }
   ],
   "source": [
    "vectors_df.head()"
   ]
  },
  {
   "cell_type": "markdown",
   "metadata": {},
   "source": [
    "If we're going to plot the data in two-dimensions, we'll need the t-SNE dimensionality reduction (i.e., the (x,y) coordinates). We already have that calculated; let's remind ourselves what that dataframe looks like."
   ]
  },
  {
   "cell_type": "code",
   "execution_count": 27,
   "metadata": {
    "collapsed": false
   },
   "outputs": [
    {
     "data": {
      "text/html": [
       "<div>\n",
       "<table border=\"1\" class=\"dataframe\">\n",
       "  <thead>\n",
       "    <tr style=\"text-align: right;\">\n",
       "      <th></th>\n",
       "      <th>x</th>\n",
       "      <th>y</th>\n",
       "      <th>word</th>\n",
       "    </tr>\n",
       "  </thead>\n",
       "  <tbody>\n",
       "    <tr>\n",
       "      <th>0</th>\n",
       "      <td>8.062794</td>\n",
       "      <td>19.277528</td>\n",
       "      <td>serious</td>\n",
       "    </tr>\n",
       "    <tr>\n",
       "      <th>1</th>\n",
       "      <td>0.179616</td>\n",
       "      <td>2.619435</td>\n",
       "      <td>Argentinean</td>\n",
       "    </tr>\n",
       "    <tr>\n",
       "      <th>2</th>\n",
       "      <td>15.221349</td>\n",
       "      <td>13.411597</td>\n",
       "      <td>lion</td>\n",
       "    </tr>\n",
       "    <tr>\n",
       "      <th>3</th>\n",
       "      <td>4.653272</td>\n",
       "      <td>0.553048</td>\n",
       "      <td>Skopje</td>\n",
       "    </tr>\n",
       "    <tr>\n",
       "      <th>4</th>\n",
       "      <td>5.613013</td>\n",
       "      <td>1.066913</td>\n",
       "      <td>denar</td>\n",
       "    </tr>\n",
       "  </tbody>\n",
       "</table>\n",
       "</div>"
      ],
      "text/plain": [
       "           x          y         word\n",
       "0   8.062794  19.277528      serious\n",
       "1   0.179616   2.619435  Argentinean\n",
       "2  15.221349  13.411597         lion\n",
       "3   4.653272   0.553048       Skopje\n",
       "4   5.613013   1.066913        denar"
      ]
     },
     "execution_count": 27,
     "metadata": {},
     "output_type": "execute_result"
    }
   ],
   "source": [
    "tsne_df.head()"
   ]
  },
  {
   "cell_type": "markdown",
   "metadata": {},
   "source": [
    "Almost there! We'll merge the two dataframes to create one dataframe to rule them all. Then we'll take a look at the first few rows."
   ]
  },
  {
   "cell_type": "code",
   "execution_count": 28,
   "metadata": {
    "collapsed": false
   },
   "outputs": [],
   "source": [
    "full_vectors_df = vectors_df.merge(tsne_df, left_on='key', \n",
    "                                   right_on='word', how='inner')"
   ]
  },
  {
   "cell_type": "code",
   "execution_count": 29,
   "metadata": {
    "collapsed": false
   },
   "outputs": [
    {
     "data": {
      "text/html": [
       "<div>\n",
       "<table border=\"1\" class=\"dataframe\">\n",
       "  <thead>\n",
       "    <tr style=\"text-align: right;\">\n",
       "      <th></th>\n",
       "      <th>key</th>\n",
       "      <th>vector</th>\n",
       "      <th>cluster_label</th>\n",
       "      <th>x</th>\n",
       "      <th>y</th>\n",
       "      <th>word</th>\n",
       "    </tr>\n",
       "  </thead>\n",
       "  <tbody>\n",
       "    <tr>\n",
       "      <th>0</th>\n",
       "      <td>serious</td>\n",
       "      <td>[-0.18090227, 0.071954094, 0.09142203, -0.1080...</td>\n",
       "      <td>8</td>\n",
       "      <td>8.062794</td>\n",
       "      <td>19.277528</td>\n",
       "      <td>serious</td>\n",
       "    </tr>\n",
       "    <tr>\n",
       "      <th>1</th>\n",
       "      <td>Argentinean</td>\n",
       "      <td>[-0.13379298, 0.04386206, -0.012512328, 0.0142...</td>\n",
       "      <td>1</td>\n",
       "      <td>0.179616</td>\n",
       "      <td>2.619435</td>\n",
       "      <td>Argentinean</td>\n",
       "    </tr>\n",
       "    <tr>\n",
       "      <th>2</th>\n",
       "      <td>lion</td>\n",
       "      <td>[0.0414769, 0.07991018, 0.010302051, -0.077551...</td>\n",
       "      <td>11</td>\n",
       "      <td>15.221349</td>\n",
       "      <td>13.411597</td>\n",
       "      <td>lion</td>\n",
       "    </tr>\n",
       "    <tr>\n",
       "      <th>3</th>\n",
       "      <td>Skopje</td>\n",
       "      <td>[-0.373039, 0.06408548, -0.23926772, 0.3546603...</td>\n",
       "      <td>14</td>\n",
       "      <td>4.653272</td>\n",
       "      <td>0.553048</td>\n",
       "      <td>Skopje</td>\n",
       "    </tr>\n",
       "    <tr>\n",
       "      <th>4</th>\n",
       "      <td>denar</td>\n",
       "      <td>[-0.14734268, 0.008658076, -0.20765506, 0.2467...</td>\n",
       "      <td>14</td>\n",
       "      <td>5.613013</td>\n",
       "      <td>1.066913</td>\n",
       "      <td>denar</td>\n",
       "    </tr>\n",
       "  </tbody>\n",
       "</table>\n",
       "</div>"
      ],
      "text/plain": [
       "           key                                             vector  \\\n",
       "0      serious  [-0.18090227, 0.071954094, 0.09142203, -0.1080...   \n",
       "1  Argentinean  [-0.13379298, 0.04386206, -0.012512328, 0.0142...   \n",
       "2         lion  [0.0414769, 0.07991018, 0.010302051, -0.077551...   \n",
       "3       Skopje  [-0.373039, 0.06408548, -0.23926772, 0.3546603...   \n",
       "4        denar  [-0.14734268, 0.008658076, -0.20765506, 0.2467...   \n",
       "\n",
       "   cluster_label          x          y         word  \n",
       "0              8   8.062794  19.277528      serious  \n",
       "1              1   0.179616   2.619435  Argentinean  \n",
       "2             11  15.221349  13.411597         lion  \n",
       "3             14   4.653272   0.553048       Skopje  \n",
       "4             14   5.613013   1.066913        denar  "
      ]
     },
     "execution_count": 29,
     "metadata": {},
     "output_type": "execute_result"
    }
   ],
   "source": [
    "full_vectors_df.head()"
   ]
  },
  {
   "cell_type": "markdown",
   "metadata": {},
   "source": [
    "Looks good. The last step is to save this dataframe out so we can load it into Tableau. We don't need the `vector` column, and there is a repeated column (`key` and `word` are the same), so we'll take a subset of the columns and save them out."
   ]
  },
  {
   "cell_type": "code",
   "execution_count": 30,
   "metadata": {
    "collapsed": true
   },
   "outputs": [],
   "source": [
    "full_vectors_df[['word','x','y','cluster_label']].to_csv(\"./word_vectors_clusters_n10_tsne.tab\", sep='\\t')"
   ]
  },
  {
   "cell_type": "markdown",
   "metadata": {},
   "source": [
    "Now we can complete the analysis in Tableau. We can import the images here. Below is the plot of the t-SNE results after clustering with k=10."
   ]
  },
  {
   "cell_type": "markdown",
   "metadata": {},
   "source": [
    "#### k-Means Clustering Before t-SNE (k=10)\n",
    "![k-Means Clustering Before t-SNE (k=10)](./images/image_cluster_before_tsne_n10_v1.png)"
   ]
  },
  {
   "cell_type": "markdown",
   "metadata": {},
   "source": [
    "If instead of k=10, we increase the number of clusters to 16, we can achieve the plot below."
   ]
  },
  {
   "cell_type": "markdown",
   "metadata": {},
   "source": [
    "#### k-Means Clustering Before t-SNE (k=16)\n",
    "![k-Means Clustering Before t-SNE (k=16)](./images/image_cluster_before_tsne_n16_v1.png)"
   ]
  },
  {
   "cell_type": "markdown",
   "metadata": {},
   "source": [
    "---"
   ]
  },
  {
   "cell_type": "markdown",
   "metadata": {},
   "source": [
    "## References and Acknowledgments"
   ]
  },
  {
   "cell_type": "markdown",
   "metadata": {},
   "source": [
    "Insipriation taken from: https://github.com/jadianes/spark-py-notebooks\n",
    "\n",
    "Word2Vec example: https://www.tensorflow.org/tutorials/word2vec/\n",
    "\n",
    "Original Google Word2Vec code: https://code.google.com/archive/p/word2vec/"
   ]
  },
  {
   "cell_type": "markdown",
   "metadata": {},
   "source": [
    "---"
   ]
  },
  {
   "cell_type": "markdown",
   "metadata": {},
   "source": [
    "## Other Things"
   ]
  },
  {
   "cell_type": "markdown",
   "metadata": {},
   "source": [
    "### Example of going back from index to string"
   ]
  },
  {
   "cell_type": "markdown",
   "metadata": {},
   "source": [
    "As part of the `StringIndexer` function, metadata about the indexed column is stored in the dataframe. Although not visible to the user, it is there and can be used to convert the index back to the original categorical value. Below is an example of using [IndexToString](http://spark.apache.org/docs/latest/ml-features.html#indextostring) to recover the original categorical values."
   ]
  },
  {
   "cell_type": "code",
   "execution_count": 55,
   "metadata": {
    "collapsed": false
   },
   "outputs": [],
   "source": [
    "from pyspark.ml.feature import IndexToString\n",
    "\n",
    "converters = [IndexToString(inputCol=\"job_index\", outputCol=\"orig_job_category\"),\n",
    "             IndexToString(inputCol=\"default_index\", outputCol=\"orig_default_category\"),\n",
    "             IndexToString(inputCol=\"poutcome_index\", outputCol=\"orig_poutcome_category\")]\n",
    "\n",
    "converter_pipeline = Pipeline(stages=converters)\n",
    "converted = converter_pipeline.fit(indexed_df).transform(indexed_df)"
   ]
  },
  {
   "cell_type": "code",
   "execution_count": 57,
   "metadata": {
    "collapsed": false
   },
   "outputs": [
    {
     "data": {
      "text/plain": [
       "[Row(age=56, job=u'housemaid', marital=u'married', education=u'basic.4y', default=u'no', housing=u'no', loan=u'no', contact=u'telephone', month=u'may', day_of_week=u'mon', duration=261, campaign=1, pdays=999, previous=0, poutcome=u'nonexistent', emp.var.rate=1.1, cons.price.idx=93.994, cons.conf.idx=-36.4, euribor3m=4.857, nr.employed=5191.0, label=u'no', job_index=8.0, label_index=0.0, default_index=0.0, poutcome_index=0.0, orig_job_category=u'housemaid', orig_default_category=u'no', orig_poutcome_category=u'nonexistent'),\n",
       " Row(age=57, job=u'services', marital=u'married', education=u'high.school', default=u'unknown', housing=u'no', loan=u'no', contact=u'telephone', month=u'may', day_of_week=u'mon', duration=149, campaign=1, pdays=999, previous=0, poutcome=u'nonexistent', emp.var.rate=1.1, cons.price.idx=93.994, cons.conf.idx=-36.4, euribor3m=4.857, nr.employed=5191.0, label=u'no', job_index=3.0, label_index=0.0, default_index=1.0, poutcome_index=0.0, orig_job_category=u'services', orig_default_category=u'unknown', orig_poutcome_category=u'nonexistent')]"
      ]
     },
     "execution_count": 57,
     "metadata": {},
     "output_type": "execute_result"
    }
   ],
   "source": [
    "converted.take(2)"
   ]
  }
 ],
 "metadata": {
  "anaconda-cloud": {},
  "kernelspec": {
   "display_name": "Python [conda root]",
   "language": "python",
   "name": "conda-root-py"
  },
  "language_info": {
   "codemirror_mode": {
    "name": "ipython",
    "version": 2
   },
   "file_extension": ".py",
   "mimetype": "text/x-python",
   "name": "python",
   "nbconvert_exporter": "python",
   "pygments_lexer": "ipython2",
   "version": "2.7.12"
  }
 },
 "nbformat": 4,
 "nbformat_minor": 1
}
